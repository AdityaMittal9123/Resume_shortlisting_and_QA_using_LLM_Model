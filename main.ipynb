{
  "cells": [
    {
      "cell_type": "markdown",
      "metadata": {
        "id": "Xi_CSwdF5Mk0"
      },
      "source": [
        "## Downloading the required libraries"
      ]
    },
    {
      "cell_type": "code",
      "execution_count": null,
      "metadata": {
        "id": "xcvrotGSnELs"
      },
      "outputs": [],
      "source": [
        "#installing the required library\n",
        "!pip install openai\n",
        "!pip install gradio\n",
        "!pip install PyPDF2\n",
        "!pip install python-docx"
      ]
    },
    {
      "cell_type": "markdown",
      "metadata": {
        "id": "LcImTmjy5WrD"
      },
      "source": [
        "# Installing the required libraries"
      ]
    },
    {
      "cell_type": "code",
      "execution_count": null,
      "metadata": {
        "id": "zBUyst5VnELv"
      },
      "outputs": [],
      "source": [
        "import os\n",
        "import docx\n",
        "import openai\n",
        "import gradio as gr\n",
        "import csv\n",
        "openai.api_key=\"ENTER_YOUR_OPENAI_SECRET_KEY\"\n",
        "\n"
      ]
    },
    {
      "cell_type": "markdown",
      "metadata": {
        "id": "z7KCEdkW51Hj"
      },
      "source": [
        "# This function reads the resume file and passing the resume and JD to the prompt() function"
      ]
    },
    {
      "cell_type": "code",
      "execution_count": null,
      "metadata": {
        "id": "JYwLPLpInELx"
      },
      "outputs": [],
      "source": [
        "def read_file(file_path,JD):\n",
        "        with open(file_path,'r',encoding='utf-8') as file:\n",
        "            resume=file.read()\n",
        "            print('ye h hmara JD',JD)\n",
        "            # print()\n",
        "            # JD = \"\"\"Years of Experience\t1-3 Years, Programming skills- Good knowledge in any one of the programming knowledge, JAVA, Python or javascript. Fair understanding of SDLC process, Understand testing, write unit tests. Good knowledge around devOps, Cloud technology.Basics in OS concepts / Linux/Unix Systems • Basics in Programming / scripting experience (Java, Perl, Ruby, C#, and/or PHP, Go Lang, Python). Bachelor’s Degree in computer science or related field • Excellent oral and written communication skills • Strong quality focus & multi-tasking skills.\"\"\"\n",
        "            prompt(resume,JD)\n"
      ]
    },
    {
      "cell_type": "markdown",
      "metadata": {
        "id": "bNdt8csG5eBk"
      },
      "source": [
        "# This is the latest prompt which shortlists the resume based on the skills and experience"
      ]
    },
    {
      "cell_type": "code",
      "execution_count": null,
      "metadata": {
        "id": "3wuJor-mnELw"
      },
      "outputs": [],
      "source": [
        "def prompt(resume,JD):\n",
        "    prompt=f\"\"\"\n",
        "        Please evaluate the suitability of the following resume  based on the job description provided below. Your evaluation should be based on\n",
        "        the two evaluation criteria given below. Your answer should be very precise, giving \"YES\" or \"NO\" for each of the two criteria. If candidate\n",
        "        has more years of experience than given in job description, then it should be a \"YES\" for fist evaluation criteria. Re-check your answer.\n",
        "        If you are giving \"NO\" as responses, then write explanation in one sentence.\n",
        "        Job Description:\n",
        "        {JD}\n",
        "        Resume:\n",
        "        {resume}\n",
        "\n",
        "        Evaluation:\n",
        "        1. Does the candidate have an minimum experience that is mentioned in Job Description?\n",
        "        2. Does the candidate have atleast two skills that is mentioned in Job Description?\n",
        "        \"\"\"\n",
        "    generate_response(prompt)\n"
      ]
    },
    {
      "cell_type": "markdown",
      "metadata": {
        "id": "N-tyVx8F6NO6"
      },
      "source": [
        "# The generate_response() checks whether the resume is suitable or not"
      ]
    },
    {
      "cell_type": "code",
      "execution_count": null,
      "metadata": {
        "id": "pbRw3U1ynELy"
      },
      "outputs": [],
      "source": [
        "# creating the empty list to storing the response of the model\n",
        "output=[]\n",
        "\n",
        "# generating the response to check the suitablity of the resume\n",
        "def generate_response(prompt):\n",
        "    response=openai.Completion.create(\n",
        "    engine=\"text-davinci-003\",\n",
        "    prompt=prompt,\n",
        "    max_tokens=400,\n",
        "    temperature=0.1,\n",
        "    frequency_penalty=0,\n",
        "    presence_penalty=0,\n",
        "    top_p=1\n",
        ")\n",
        "    output.append((response['choices'][0]['text']))\n",
        "    print((response['choices'][0]['text']))\n"
      ]
    },
    {
      "cell_type": "markdown",
      "metadata": {
        "id": "ubdmeQjO6b3q"
      },
      "source": [
        "# This function will shortlist all the resumes that are suitable"
      ]
    },
    {
      "cell_type": "code",
      "execution_count": null,
      "metadata": {
        "id": "VRvUoKtjFzBL"
      },
      "outputs": [],
      "source": [
        "# shortlisting the resumes based on the specified criteria\n",
        "\n",
        "def shortlist(response):\n",
        "  shortlisted=[]\n",
        "  for i,j in response.items():\n",
        "    s=j.replace('\\n',' ')\n",
        "    if 'no' not in s.lower() :\n",
        "        shortlisted.append(i)\n",
        "  return shortlisted"
      ]
    },
    {
      "cell_type": "markdown",
      "metadata": {
        "id": "oaaHQ52F65o7"
      },
      "source": [
        "# This is the JD"
      ]
    },
    {
      "cell_type": "code",
      "execution_count": null,
      "metadata": {
        "id": "fL-oiQfTeeTB"
      },
      "outputs": [],
      "source": [
        "# This is the JD\n",
        "\n",
        "# JD = \"\"\"Years of Experience\t1-3 Years, Programming skills- Good knowledge in any one of the programming knowledge, JAVA, Python or javascript. Fair understanding of SDLC process, Understand testing, write unit tests. Good knowledge around devOps, Cloud technology.Basics in OS concepts / Linux/Unix Systems • Basics in Programming / scripting experience (Java, Perl, Ruby, C#, and/or PHP, Go Lang, Python). Bachelor’s Degree in computer science or related field • Excellent oral and written communication skills • Strong quality focus & multi-tasking skills.\n",
        "# \"\"\""
      ]
    },
    {
      "cell_type": "markdown",
      "metadata": {
        "id": "XFRlW1Ef69Ez"
      },
      "source": [
        "# This function will create 5 questions for the particular resume , related to the skills present in JD and resume both."
      ]
    },
    {
      "cell_type": "code",
      "execution_count": null,
      "metadata": {
        "id": "asZm1mRHGmAP"
      },
      "outputs": [],
      "source": [
        "# this is the prompt to create 5 intereview questions for the shortlisted resume\n",
        "\n",
        "def question_prompt(resume):\n",
        "  p='/content/drive/MyDrive/resumes'+'/'+resume\n",
        "\n",
        "  if resume.endswith('.txt'):\n",
        "    with open(p,'r',encoding='utf-8') as file:\n",
        "      resume=file.read()\n",
        "\n",
        "  elif resume.endswith('.pdf'):\n",
        "    pdfFileObj = open(p, 'rb')\n",
        "    pdfReader = PyPDF2.PdfFileReader(pdfFileObj)\n",
        "    print(pdfReader.numPages)\n",
        "    pageObj = pdfReader.getPage(0)\n",
        "    resume=pageObj.extractText()\n",
        "\n",
        "  elif resume.endswith('.docx'):\n",
        "    doc = docx.Document(p)\n",
        "    resume = []\n",
        "    for para in doc.paragraphs:\n",
        "        resume.append(para.text)\n",
        "  else:\n",
        "    raise ValueError(\"File Format is not supported !\")\n",
        "\n",
        "\n",
        "  prompt=f\"\"\"\n",
        "    You are conducting an interview for a position given in the job description below and have a possible candidate whose resume is given below.\n",
        "    You have to create 5 interview question which would help you to decide whether the candidate is suitable for this job.\n",
        "    You may ask technical, personal and behavioural questions that would help to arrive at the decision of selecting the candidate.\n",
        "\n",
        "    Job description:\n",
        "    {JD}\n",
        "    Resume:\n",
        "    {resume}\n",
        "    You may increase the level of difficulty of  questions if required to assess the candidate.\n",
        "    \"\"\"\n",
        "  queston=generate_question(prompt)\n",
        "  return queston"
      ]
    },
    {
      "cell_type": "markdown",
      "metadata": {
        "id": "26h1JfcG7Ncn"
      },
      "source": [
        "# This will generate the questions"
      ]
    },
    {
      "cell_type": "code",
      "execution_count": null,
      "metadata": {
        "id": "uPv-nmHuIFAw"
      },
      "outputs": [],
      "source": [
        "# This model generate the questions for the resume\n",
        "\n",
        "def generate_question(prompt):\n",
        "    response=openai.Completion.create(\n",
        "    engine=\"text-davinci-003\",\n",
        "    prompt=prompt,\n",
        "    max_tokens=400,\n",
        "    temperature=0.1,\n",
        "    frequency_penalty=0,\n",
        "    presence_penalty=0,\n",
        "    top_p=1\n",
        "    )\n",
        "    # print(response['choices'][0]['text'])\n",
        "    ques=(response['choices'][0]['text'])\n",
        "    return ques"
      ]
    },
    {
      "cell_type": "markdown",
      "metadata": {
        "id": "PTBLAOsc7ScQ"
      },
      "source": [
        "# This prompt will analyse the final score by reading the question answer history of the candidate"
      ]
    },
    {
      "cell_type": "code",
      "execution_count": null,
      "metadata": {
        "id": "P-r8sDY2PYwx"
      },
      "outputs": [],
      "source": [
        "# this will analyse the final score , whether the candidate is qualified or not.\n",
        "\n",
        "def final_score(summary):\n",
        "  # prompt=f\"\"\"\n",
        "  #       You are an interviewer. You are given the history of the questions asked to the candidate and the answer given by the candidate below.\n",
        "\n",
        "  #       chat history:\n",
        "  #       {summary}\n",
        "\n",
        "  #       You have to analyse the answer of each questions one by one and give the score in \"0\" and \"1\" with \"0\" being the incorrect answer and \"1\" being the correct answer.\n",
        "  #       After that you have to give the overall score to the candidate. Also give the feedback  in 50 words.\n",
        "\n",
        "  #       Overall Score:\n",
        "\n",
        "  #       feedback:\n",
        "  # \"\"\"\n",
        "  prompt= f\"\"\"\n",
        "      Given below is a conversation between a candidate and an interviewer:\n",
        "      {summary}\n",
        "      Now go through the following instructions and generate the output accordingly:\n",
        "      You have to analyze the conversation and determine the accuracy of the candidate's answers for each individual question.\n",
        "      Even if the answer is correct, properly assess the candidate's knowledge based on the provided answer.\n",
        "      Based on the answers given by the candidate, give a score between 0 and 10. Where 0 denotes complete lack of knowledge of the asked topic and 10 denotes excellent knowledge of the asked topic.\n",
        "      You also have to judge how the candidate reacts to tough situations based on the behavioural questions the interviewer has asked. Judge the candidate's response and give a score between 0 to 10, the score should be higher if the candidate's reaction to the situation was appropriate and justified and the score should be lower if the candidate's response was not accurate.\n",
        "      Give each response of the candidate a score between 0 to 10 as instructed before and calculate the average of these scores. Show the average score as the final output along with a short and crisp summary of whether the candidate has demonstrated excellent knowledge of the asked topics or not.\n",
        "      If the candidate answers like 'I don't know' or 'No idea', etc. You should give a zero score for that particular answer.\n",
        "      \"\"\"\n",
        "  score=generate_question(prompt)\n",
        "  return score"
      ]
    },
    {
      "cell_type": "markdown",
      "metadata": {
        "id": "LdXIigf-7trX"
      },
      "source": [
        "## This is the main function"
      ]
    },
    {
      "cell_type": "code",
      "execution_count": null,
      "metadata": {
        "id": "RTXFfEDreeTD"
      },
      "outputs": [],
      "source": [
        "# this is the main function which reads the files of the a particular forlder path and then perform all the operations\n",
        "JD=''\n",
        "def main(input):\n",
        "    global JD , display\n",
        "    JD=input\n",
        "    path='/content/drive/MyDrive/resumes'\n",
        "    os.chdir(path)\n",
        "    files=os.listdir(path)\n",
        "    count=0\n",
        "    response={}\n",
        "    # f=['cv19.txt','Ankit Mittal.txt']\n",
        "    # sending resumes one by one\n",
        "    for i in files:\n",
        "        if i == 'cv19.txt':\n",
        "          read_file(i,JD)\n",
        "          response[i]=output[count]\n",
        "          count+=1\n",
        "    print(\"----RESUME ALONG WITH SUITABLITY STATUS----\")\n",
        "    print(response)\n",
        "    print('\\n')\n",
        "\n",
        "    #this is the list of shortlisted resumes\n",
        "    shortlisted=shortlist(response)\n",
        "    # str=''\n",
        "    # str+=[i for i in shortlisted]\n",
        "    display='display:none'\n",
        "    return shortlisted\n",
        "\n",
        "\n",
        "    # If statement checks whether the shortlisted list is empty or not\n",
        "    # questions=question_prompt(shortlisted)\n",
        "    # questions=[]\n",
        "    # if len(shortlisted)!=0:\n",
        "    #     for file in shortlisted:\n",
        "    #       print(file)\n",
        "    #       # break\n",
        "    #       with open(path+'/'+file,'r',encoding='utf-8') as file:\n",
        "    #         resume=file.read()\n",
        "    #         questions=question_prompt(resume)\n",
        "    #         print(questions)\n",
        "    #         break\n",
        "\n",
        "    #         summary=''\n",
        "    #         print(questions)\n",
        "            # for question in questions:\n",
        "            #   if question !='':\n",
        "            #     print(\"Question: \", question)\n",
        "            #     answer=input('Answer: ')\n",
        "            #     summary+=question+'\\n'+answer+'\\n'\n",
        "            #   final_score(summary)\n",
        "\n",
        "    # else:\n",
        "    #   print(\"\\n\\n No Candidate shortlisted for the position\")\n",
        "    # print(shortlisted)\n",
        "    # return shortlisted\n"
      ]
    },
    {
      "cell_type": "markdown",
      "metadata": {
        "id": "jWwefmNu4Zud"
      },
      "source": [
        "### This is the main final gradio code for the chatbot . It is showing the shortlisted resumes , a chatbot and then showing the final score of the candiate.\n",
        "\n",
        "#### you have to pass the folder path into the main function called in this cell"
      ]
    },
    {
      "cell_type": "code",
      "execution_count": null,
      "metadata": {
        "id": "6xLud4RY2jo4"
      },
      "outputs": [],
      "source": [
        "!pip install gradio\n",
        "import gradio as gr"
      ]
    },
    {
      "cell_type": "code",
      "execution_count": null,
      "metadata": {
        "id": "NzVIiGHeQnjR"
      },
      "outputs": [],
      "source": [
        "css = \"\"\"\n",
        ".gradio-container {background-color: #e9eaed}\n",
        ".feedback  textarea {font-size: 24px !important; background-color:red}\n",
        "[data-testid = \"bot\"] {\n",
        "    background-color: #FFFFFF !important;\n",
        "    color: #572ab8 !important;\n",
        "}\n",
        "[data-testid = \"user\"] {\n",
        "    background: #572ab8 !important;\n",
        "    color: #ccebff !important\n",
        "}\n",
        "\"\"\"\n",
        "\n",
        "#pass the folder path into the main function\n",
        "\n",
        "# shortlisted=main('/content/drive/MyDrive/resumes')\n",
        "def main(input):\n",
        "  # shortlisted=['cv1','cv2','cv19.txt']\n",
        "  shortlisted=\"aditya.txt,aman.txt,sachin.txt,vidhi.txt\"\n",
        "  return input\n",
        "\n",
        "count=0\n",
        "\n",
        "generated_questions=[]\n",
        "def short1(input):\n",
        "  global generated_questions , count\n",
        "  count=0\n",
        "  questions=question_prompt(input)\n",
        "  generated_questions=questions.split('\\n')\n",
        "  print('these are the questions-------------\\n',questions)\n",
        "  return questions\n",
        "\n",
        "def chatgpt_clone(input, history):\n",
        "    global count , generated_questions\n",
        "    generated_questions.append('Thank you for your time . click on FINAL SCORE button to know the final score !')\n",
        "    count+=1\n",
        "    history = history or []\n",
        "    s = list(sum(history, ()))\n",
        "    s.append(input)\n",
        "    inp = ' '.join(s)\n",
        "    if count<len(generated_questions):\n",
        "      output = generated_questions[count]\n",
        "    else:\n",
        "      output=''\n",
        "    with open('Resume_Q&A_log.csv', 'a', encoding='UTF8', newline='') as f:\n",
        "            writer = csv.writer(f)\n",
        "            writer.writerow([output,input])\n",
        "    history.append((input, output))\n",
        "    return history, history\n",
        "\n",
        "\n",
        "#this will return pass the chat history to the final_score() and then return the final score of the candidate\n",
        "def final(input):\n",
        "  with open('Resume_Q&A_log.csv', mode='r') as file:\n",
        "    data=csv.reader(file)\n",
        "    chat=[]\n",
        "    for i in data:\n",
        "      chat.append(i)\n",
        "    lines=''\n",
        "    for line in chat:\n",
        "      lines=lines+line[0]+'\\n'+line[1]+'\\n'\n",
        "    score=final_score(lines)\n",
        "\n",
        "    # if(os.path.exists('Resume_Q&A_log.csv') and os.path.isfile('Resume_Q&A_log.csv')):\n",
        "    #   os.remove('Resume_Q&A_log.csv')\n",
        "    #   print(\"file deleted\")\n",
        "    # else:\n",
        "    #   print(\"file not found\")\n",
        "    return score\n",
        "\n",
        "\n",
        "styling=\"\"\"<html lang=\"en\">\n",
        "              <head>\n",
        "                <!-- Required meta tags -->\n",
        "                <meta charset=\"utf-8\">\n",
        "                <meta name=\"viewport\" content=\"width=device-width, initial-scale=1, shrink-to-fit=no\">\n",
        "                <!-- Bootstrap CSS -->\n",
        "                <link rel=\"stylesheet\" href=\"https://cdn.jsdelivr.net/npm/bootstrap@4.0.0/dist/css/bootstrap.min.css\" integrity=\"sha384-Gn5384xqQ1aoWXA+058RXPxPg6fy4IWvTNh0E263XmFcJlSAwiGgFAW/dAiS6JXm\" crossorigin=\"anonymous\">\n",
        "                <title>Hello, world!</title>\n",
        "                <style>\n",
        "                .nav .navbar-brand{font-size: 50px; text-decoration: none !important; font-weight: 900;}\n",
        "                </style>\n",
        "              </head>\n",
        "              <body>\n",
        "                <nav class=\"navbar navbar-expand navbar-light bg-light\" style=\"background: linear-gradient(90deg, rgba(95,30,190,1) 10%, rgba(60,145,255,1) 50%);height:50px !important\">\n",
        "              <h1 class=\"navbar-brand text-white mb-3\" >HCLTech</h1>\n",
        "              </nav>\n",
        "              <div class='mt-2  d-flex justify-content-center text-white' style=\"font-size:16px !important\">Welcome to the Resume shortlisting System </div>\n",
        "                <!-- Optional JavaScript -->\n",
        "                <!-- jQuery first, then Popper.js, then Bootstrap JS -->\n",
        "                <script src=\"https://code.jquery.com/jquery-3.2.1.slim.min.js\" integrity=\"sha384-KJ3o2DKtIkvYIK3UENzmM7KCkRr/rE9/Qpg6aAZGJwFDMVNA/GpGFF93hXpG5KkN\" crossorigin=\"anonymous\"></script>\n",
        "                <script src=\"https://cdn.jsdelivr.net/npm/popper.js@1.12.9/dist/umd/popper.min.js\" integrity=\"sha384-ApNbgh9B+Y1QKtv3Rn7W3mgPxhU9K/ScQsAP7hUibX39j7fakFPskvXusvfa0b4Q\" crossorigin=\"anonymous\"></script>\n",
        "                <script src=\"https://cdn.jsdelivr.net/npm/bootstrap@4.0.0/dist/js/bootstrap.min.js\" integrity=\"sha384-JZR6Spejh4U02d8jOt6vLEHfe/JQGiRRSQQxSfFWpi1MquVdAyjUar5+76PVCmYl\" crossorigin=\"anonymous\"></script>\n",
        "              </body>\n",
        "              </html>\n",
        "          \"\"\"\n",
        "\n",
        "display='display:none'\n",
        "block = gr.Blocks(css=css)\n",
        "with block:\n",
        "    gr.Markdown(styling)\n",
        "\n",
        "\n",
        "    resume_path=gr.Textbox(label=\"Enter the Job Description\",placeholder='Enter the Job Description to get the shortlisted resumes',elem_classes=\"feedback\")\n",
        "    resume_button=gr.Button(\"Shortlist Resumes\")\n",
        "    # gr.Markdown(f\"<div style='{display}'> Here is the shortlisted resumes </div>\")\n",
        "    short=gr.Textbox(label=\"Resume Name \",placeholder='Enter the shortlisted resume name to generate the asnwers',elem_classes=\"feedback\")\n",
        "\n",
        "    shortlisted_button=gr.Button(\"Generate Questions\")\n",
        "    resume_button.click(main,inputs=[resume_path],outputs=[resume_path])\n",
        "    shortlisted_button.click(short1,inputs=[short],outputs=[short])\n",
        "\n",
        "    chatbot = gr.Chatbot()\n",
        "    message = gr.Textbox(label=\"Type your answer here\",placeholder=\"Should we begin\")\n",
        "    state = gr.State()\n",
        "    with gr.Row():\n",
        "      submit = gr.Button(\"SEND\",visible=True)\n",
        "      clear = gr.ClearButton([message,chatbot])\n",
        "    finalScore = gr.Textbox(label=\"Final Score\",placeholder=\"Final score of the candidate\")\n",
        "    score_button=gr.Button(\"Final Score\")\n",
        "    submit.click(chatgpt_clone, inputs=[message, state], outputs=[chatbot, state])\n",
        "    clear.click(lambda: None, None , chatbot)\n",
        "    score_button.click(final,inputs=[],outputs=[finalScore])\n",
        "\n",
        "\n",
        "block.launch(debug = True)"
      ]
    }
  ],
  "metadata": {
    "colab": {
      "provenance": []
    },
    "kernelspec": {
      "display_name": "Python 3",
      "language": "python",
      "name": "python3"
    },
    "language_info": {
      "codemirror_mode": {
        "name": "ipython",
        "version": 3
      },
      "file_extension": ".py",
      "mimetype": "text/x-python",
      "name": "python",
      "nbconvert_exporter": "python",
      "pygments_lexer": "ipython3",
      "version": "3.10.1"
    }
  },
  "nbformat": 4,
  "nbformat_minor": 0
}
